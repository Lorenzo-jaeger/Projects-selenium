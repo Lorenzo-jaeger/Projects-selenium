{
 "cells": [
  {
   "cell_type": "code",
   "execution_count": 1,
   "metadata": {},
   "outputs": [],
   "source": [
    "import os\n",
    "import json\n",
    "import time\n",
    "import logging\n",
    "from selenium import webdriver\n",
    "from selenium.webdriver.chrome.service import Service\n",
    "from webdriver_manager.chrome import ChromeDriverManager\n",
    "from selenium.webdriver.common.by import By\n",
    "from selenium.webdriver.support.ui import WebDriverWait\n",
    "from selenium.webdriver.support import expected_conditions as EC\n",
    "from selenium.webdriver.chrome.options import Options"
   ]
  },
  {
   "cell_type": "code",
   "execution_count": 2,
   "metadata": {},
   "outputs": [],
   "source": [
    "# Configuração de logging\n",
    "logging.basicConfig(level=logging.INFO, format='%(asctime)s - %(levelname)s - %(message)s')"
   ]
  },
  {
   "cell_type": "code",
   "execution_count": 3,
   "metadata": {},
   "outputs": [],
   "source": [
    "# Configuração do WebDriver com opções (headless, se necessário)\n",
    "chrome_options = Options()\n",
    "chrome_options.add_argument(\"--headless\")  # Opcional: Executa o navegador em modo headless\n",
    "chrome_options.add_argument(\"--disable-gpu\")  # Necessário para headless no Windows\n",
    "chrome_options.add_argument(\"--no-sandbox\")  # Necessário para execução em alguns servidores Linux\n",
    "chrome_options.add_argument(\"--disable-dev-shm-usage\")  # Evita alguns problemas de memória compartilhada em Linux"
   ]
  },
  {
   "cell_type": "code",
   "execution_count": 4,
   "metadata": {},
   "outputs": [
    {
     "name": "stderr",
     "output_type": "stream",
     "text": [
      "2024-09-03 16:44:00,122 - INFO - ====== WebDriver manager ======\n"
     ]
    },
    {
     "name": "stderr",
     "output_type": "stream",
     "text": [
      "2024-09-03 16:44:02,803 - INFO - Get LATEST chromedriver version for google-chrome\n",
      "2024-09-03 16:44:02,905 - INFO - Get LATEST chromedriver version for google-chrome\n",
      "2024-09-03 16:44:03,003 - INFO - Driver [C:\\Users\\lorenzo.jaeger\\.wdm\\drivers\\chromedriver\\win64\\128.0.6613.119\\chromedriver-win32/chromedriver.exe] found in cache\n"
     ]
    }
   ],
   "source": [
    "# Inicializando o WebDriver\n",
    "service = Service(ChromeDriverManager().install())\n",
    "nav = webdriver.Chrome(service=service, options=chrome_options)"
   ]
  },
  {
   "cell_type": "code",
   "execution_count": 5,
   "metadata": {},
   "outputs": [],
   "source": [
    "def carregar_credenciais(filepath='config.json'):\n",
    "    \"\"\"\n",
    "    Carrega as credenciais de um arquivo JSON.\n",
    "    \"\"\"\n",
    "    try:\n",
    "        with open(filepath, 'r') as config_file:\n",
    "            config = json.load(config_file)\n",
    "        return config['linkedin_email'], config['linkedin_password']\n",
    "    except FileNotFoundError:\n",
    "        logging.error(f\"Arquivo de configuração {filepath} não encontrado.\")\n",
    "        nav.quit()\n",
    "    except KeyError as e:\n",
    "        logging.error(f\"Chave {e} não encontrada no arquivo de configuração.\")\n",
    "        nav.quit()"
   ]
  },
  {
   "cell_type": "code",
   "execution_count": 6,
   "metadata": {},
   "outputs": [],
   "source": [
    "def login_to_linkedin(email, password):\n",
    "    \"\"\"\n",
    "    Realiza o login no LinkedIn usando as credenciais fornecidas.\n",
    "    \"\"\"\n",
    "    try:\n",
    "        logging.info(\"Navegando até o LinkedIn.\")\n",
    "        nav.get(\"https://www.linkedin.com/in/lorenzo-jaeger-334746252/\")\n",
    "        \n",
    "        logging.info(\"Clicando no botão de login.\")\n",
    "        WebDriverWait(nav, 10).until(\n",
    "            EC.element_to_be_clickable((By.XPATH, '//*[@id=\"main-content\"]/div/form/p/button'))\n",
    "        ).click()\n",
    "\n",
    "        logging.info(\"Preenchendo o campo de email.\")\n",
    "        WebDriverWait(nav, 10).until(\n",
    "            EC.presence_of_element_located((By.XPATH, '//*[@id=\"session_key\"]'))\n",
    "        ).send_keys(email)\n",
    "\n",
    "        logging.info(\"Preenchendo o campo de senha.\")\n",
    "        WebDriverWait(nav, 10).until(\n",
    "            EC.presence_of_element_located((By.XPATH, '//*[@id=\"session_password\"]'))\n",
    "        ).send_keys(password)\n",
    "\n",
    "        logging.info(\"Submetendo o formulário de login.\")\n",
    "        WebDriverWait(nav, 10).until(\n",
    "            EC.element_to_be_clickable((By.XPATH, '//*[@id=\"main-content\"]/div/div[2]/form/div[2]/button'))\n",
    "        ).click()\n",
    "\n",
    "        logging.info(\"Login realizado com sucesso.\")\n",
    "        \n",
    "    except Exception as e:\n",
    "        logging.error(f\"Ocorreu um erro durante o login: {e}\")\n",
    "        nav.quit()"
   ]
  },
  {
   "cell_type": "code",
   "execution_count": 7,
   "metadata": {},
   "outputs": [
    {
     "name": "stderr",
     "output_type": "stream",
     "text": [
      "2024-09-03 16:44:05,028 - INFO - Navegando até o LinkedIn.\n"
     ]
    },
    {
     "name": "stderr",
     "output_type": "stream",
     "text": [
      "2024-09-03 16:44:06,068 - INFO - Clicando no botão de login.\n",
      "2024-09-03 16:44:10,267 - INFO - Preenchendo o campo de email.\n",
      "2024-09-03 16:44:10,926 - INFO - Preenchendo o campo de senha.\n",
      "2024-09-03 16:44:11,091 - INFO - Submetendo o formulário de login.\n",
      "2024-09-03 16:44:34,864 - INFO - Login realizado com sucesso.\n",
      "2024-09-03 16:44:37,456 - INFO - Navegador fechado.\n"
     ]
    }
   ],
   "source": [
    "def main():\n",
    "    linkedin_email, linkedin_password = carregar_credenciais()\n",
    "\n",
    "    if linkedin_email and linkedin_password:\n",
    "        login_to_linkedin(linkedin_email, linkedin_password)\n",
    "\n",
    "    # Encerrar o navegador após a execução\n",
    "    nav.quit()\n",
    "    logging.info(\"Navegador fechado.\")\n",
    "\n",
    "if __name__ == \"__main__\":\n",
    "    main()"
   ]
  }
 ],
 "metadata": {
  "kernelspec": {
   "display_name": "Python 3",
   "language": "python",
   "name": "python3"
  },
  "language_info": {
   "codemirror_mode": {
    "name": "ipython",
    "version": 3
   },
   "file_extension": ".py",
   "mimetype": "text/x-python",
   "name": "python",
   "nbconvert_exporter": "python",
   "pygments_lexer": "ipython3",
   "version": "3.11.9"
  }
 },
 "nbformat": 4,
 "nbformat_minor": 2
}
